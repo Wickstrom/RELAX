{
 "cells": [
  {
   "cell_type": "markdown",
   "metadata": {},
   "source": [
    "# RELAX: Representation Learning Explainability\n",
    "\n",
    "This notebook illustrates the usage of RELAX, a framework for explainability in representation learning. RELAX is based on measuring similarities in the representation space between an input and occluded versions of itself. Our analysis of RELAX shows that the proposed method can be considered a linear scoring function in a reproducing kernel Hilbert space in the form of an inner produced product between unmasked input and the mean of the masked representations. For more information see the [International Journal of Computer Vision paper](https://link.springer.com/article/10.1007/s11263-023-01773-2#citeas) or the [ArXiv paper](https://arxiv.org/pdf/2112.10161.pdf).\n",
    "\n",
    "This notebook will take you throught the basics of RELAX. If you are running this in Google Colab, remember to enable GPU support to speed up computation. The following cell import all the necessary packages to perform our analysis."
   ]
  },
  {
   "cell_type": "code",
   "execution_count": 4,
   "metadata": {},
   "outputs": [
    {
     "ename": "ModuleNotFoundError",
     "evalue": "No module named 'src'",
     "output_type": "error",
     "traceback": [
      "\u001b[0;31m---------------------------------------------------------------------------\u001b[0m",
      "\u001b[0;31mModuleNotFoundError\u001b[0m                       Traceback (most recent call last)",
      "\u001b[1;32m/Users/kwi030/Code/RELAX/notebooks/getting_started_with_relax.ipynb Cell 2\u001b[0m line \u001b[0;36m1\n\u001b[0;32m----> <a href='vscode-notebook-cell:/Users/kwi030/Code/RELAX/notebooks/getting_started_with_relax.ipynb#W3sZmlsZQ%3D%3D?line=0'>1</a>\u001b[0m \u001b[39mfrom\u001b[39;00m \u001b[39msrc\u001b[39;00m\u001b[39m.\u001b[39;00m\u001b[39mrelax\u001b[39;00m \u001b[39mimport\u001b[39;00m RELAX\n",
      "\u001b[0;31mModuleNotFoundError\u001b[0m: No module named 'src'"
     ]
    }
   ],
   "source": [
    "from src.relax import RELAX\n"
   ]
  },
  {
   "cell_type": "markdown",
   "metadata": {},
   "source": [
    "# Functions for loading example data and feature extractor\n",
    "\n",
    "from relax import RELAX"
   ]
  },
  {
   "cell_type": "code",
   "execution_count": null,
   "metadata": {},
   "outputs": [],
   "source": [
    "\n",
    "IMAGES = {\n",
    "    'example a': Image.open(example_images/example_image_a.png)\n",
    "    'example b': Image.open(example_images/example_image_b.png)\n",
    "    'example c': Image.open(example_images/example_image_c.png)\n",
    "    'example c': Image.open(example_images/example_image_d.png)\n",
    "}\n",
    "\n",
    "def load_img(example_image: str) -> torch.Tensor:\n",
    "    return IMAGES[example_image]"
   ]
  }
 ],
 "metadata": {
  "kernelspec": {
   "display_name": "rtr",
   "language": "python",
   "name": "python3"
  },
  "language_info": {
   "codemirror_mode": {
    "name": "ipython",
    "version": 3
   },
   "file_extension": ".py",
   "mimetype": "text/x-python",
   "name": "python",
   "nbconvert_exporter": "python",
   "pygments_lexer": "ipython3",
   "version": "3.9.16"
  }
 },
 "nbformat": 4,
 "nbformat_minor": 2
}
